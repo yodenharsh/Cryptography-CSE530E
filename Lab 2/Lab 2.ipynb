{
 "cells": [
  {
   "cell_type": "markdown",
   "metadata": {},
   "source": [
    "Program to perform addition, subtraction and multiplication in Galois field (2^m)\n",
    "\n",
    "Input:\n",
    "\n",
    "    m\n",
    "\n",
    "    A(x) => Users enter in string (convert to bin)\n",
    "\n",
    "    B(x) => Users enter in string (convert to bin)\n",
    "    "
   ]
  },
  {
   "cell_type": "code",
   "execution_count": 60,
   "metadata": {},
   "outputs": [
    {
     "name": "stdout",
     "output_type": "stream",
     "text": [
      "0b1101\n",
      "0b110010\n",
      "raw binary:  0b111111\n",
      "Addition/subtraction:  X^5+X^4+X^3+X^2+X^1+X^0+0\n"
     ]
    }
   ],
   "source": [
    "def poly_to_bin(x: str,m):\n",
    "    x_bin = 0\n",
    "    x = x.replace('X','10')\n",
    "    x_split = x.split('+')\n",
    "    for i in x_split:\n",
    "        if i[0:2] == '10':\n",
    "            x_bin += int(10 ** int(i[2:]))\n",
    "        else:\n",
    "            x_bin += int(i)\n",
    "    return x_bin            \n",
    "\n",
    "def bin_to_poly(bin:str):\n",
    "    bin = bin.replace('0b','')\n",
    "    poly = ''\n",
    "    for i in range(len(bin)-1,-1,-1):\n",
    "        if bin[i] == '1':\n",
    "            poly += 'X^' + str(i) + '+'\n",
    "\n",
    "    poly += '0'    \n",
    "    return poly\n",
    "\n",
    "    \n",
    "\n",
    "def add_or_subtract(a_x,b_x):\n",
    "    y = int(a_x, 2)^ int(b_x,2)\n",
    "    return bin(y)\n",
    "            \n",
    "\n",
    "\n",
    "m = int(input('Input value of m in GF(2^m)'))\n",
    "\n",
    "a_x = input('Input A(X) with no spaces')\n",
    "b_x = input('Input B(X) with no spaces')\n",
    "\n",
    "a_xbin = poly_to_bin(a_x,m)\n",
    "b_xbin = poly_to_bin(b_x,m)\n",
    "\n",
    "print('0b'+str(a_xbin))\n",
    "print('0b'+str(b_xbin))\n",
    "\n",
    "\n",
    "x_ored = add_or_subtract('0b'+str(a_xbin),'0b'+str(b_xbin))\n",
    "print('raw binary: ',x_ored)\n",
    "print('Addition/subtraction: ',bin_to_poly(str(x_ored)))\n"
   ]
  }
 ],
 "metadata": {
  "kernelspec": {
   "display_name": "Python 3",
   "language": "python",
   "name": "python3"
  },
  "language_info": {
   "codemirror_mode": {
    "name": "ipython",
    "version": 3
   },
   "file_extension": ".py",
   "mimetype": "text/x-python",
   "name": "python",
   "nbconvert_exporter": "python",
   "pygments_lexer": "ipython3",
   "version": "3.10.12"
  },
  "orig_nbformat": 4
 },
 "nbformat": 4,
 "nbformat_minor": 2
}
