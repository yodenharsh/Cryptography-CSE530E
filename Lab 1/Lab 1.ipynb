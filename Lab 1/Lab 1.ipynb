{
 "cells": [
  {
   "cell_type": "markdown",
   "metadata": {},
   "source": [
    "1. Write a python program to encrypt and decrypt using affine cipher\n",
    "\t- Take two keys (a and b) as input\n",
    "\t- Ask if encryption is needed or decryption\n",
    "\t\t- If encryption is needed, take plain text\n",
    "\t\t- If decryption is needed, take cipher text\n",
    "\t\t\n",
    "2. Write a python program to encrypt and decrypt using piglatin. "
   ]
  },
  {
   "cell_type": "code",
   "execution_count": 2,
   "metadata": {},
   "outputs": [
    {
     "ename": "ValueError",
     "evalue": "invalid literal for int() with base 10: ''",
     "output_type": "error",
     "traceback": [
      "\u001b[0;31m---------------------------------------------------------------------------\u001b[0m",
      "\u001b[0;31mValueError\u001b[0m                                Traceback (most recent call last)",
      "\u001b[0;32m/tmp/ipykernel_20063/3518669667.py\u001b[0m in \u001b[0;36m<module>\u001b[0;34m\u001b[0m\n\u001b[1;32m     11\u001b[0m     \u001b[0;32mreturn\u001b[0m \u001b[0;34m\" \"\u001b[0m\u001b[0;34m.\u001b[0m\u001b[0mjoin\u001b[0m\u001b[0;34m(\u001b[0m\u001b[0mword\u001b[0m\u001b[0;34m[\u001b[0m\u001b[0;34m-\u001b[0m\u001b[0;36m2\u001b[0m\u001b[0;34m]\u001b[0m \u001b[0;34m+\u001b[0m \u001b[0mword\u001b[0m\u001b[0;34m[\u001b[0m\u001b[0;36m0\u001b[0m\u001b[0;34m:\u001b[0m\u001b[0;34m-\u001b[0m\u001b[0;36m2\u001b[0m\u001b[0;34m]\u001b[0m \u001b[0;32mfor\u001b[0m \u001b[0mword\u001b[0m \u001b[0;32min\u001b[0m \u001b[0mwords\u001b[0m\u001b[0;34m)\u001b[0m\u001b[0;34m\u001b[0m\u001b[0;34m\u001b[0m\u001b[0m\n\u001b[1;32m     12\u001b[0m \u001b[0;34m\u001b[0m\u001b[0m\n\u001b[0;32m---> 13\u001b[0;31m \u001b[0mchoice\u001b[0m \u001b[0;34m=\u001b[0m \u001b[0mint\u001b[0m\u001b[0;34m(\u001b[0m\u001b[0minput\u001b[0m\u001b[0;34m(\u001b[0m\u001b[0;34m\"1. Encrypt or 2. Decrypt\"\u001b[0m\u001b[0;34m)\u001b[0m\u001b[0;34m)\u001b[0m\u001b[0;34m\u001b[0m\u001b[0;34m\u001b[0m\u001b[0m\n\u001b[0m\u001b[1;32m     14\u001b[0m \u001b[0;34m\u001b[0m\u001b[0m\n\u001b[1;32m     15\u001b[0m \u001b[0;32mif\u001b[0m \u001b[0mchoice\u001b[0m \u001b[0;34m==\u001b[0m \u001b[0;36m1\u001b[0m\u001b[0;34m:\u001b[0m\u001b[0;34m\u001b[0m\u001b[0;34m\u001b[0m\u001b[0m\n",
      "\u001b[0;31mValueError\u001b[0m: invalid literal for int() with base 10: ''"
     ]
    }
   ],
   "source": [
    "# Solving 2.Piglatin encryption and decryption\n",
    "\n",
    "def piglatin_encrypt(pt: str):\n",
    "    words = pt.split(' ')\n",
    "        \n",
    "    return \" \".join(word[1:] + word[0] + 'a' for word in words)\n",
    "\n",
    "def piglatin_decrypt(y:str):\n",
    "    words = y.split(' ')\n",
    "\n",
    "    return \" \".join(word[-2] + word[0:-2] for word in words)\n",
    "\n",
    "choice = int(input(\"1. Encrypt or 2. Decrypt\"))\n",
    "\n",
    "if choice == 1:\n",
    "    input = input('Plain text?')\n",
    "    print(piglatin_encrypt(input))\n",
    "\n",
    "elif choice == 2:\n",
    "    input = input(\"Cipher text?\")\n",
    "    print(piglatin_decrypt(input))"
   ]
  },
  {
   "cell_type": "code",
   "execution_count": 45,
   "metadata": {},
   "outputs": [
    {
     "ename": "TypeError",
     "evalue": "'str' object is not callable",
     "output_type": "error",
     "traceback": [
      "\u001b[0;31m---------------------------------------------------------------------------\u001b[0m",
      "\u001b[0;31mTypeError\u001b[0m                                 Traceback (most recent call last)",
      "\u001b[0;32m/tmp/ipykernel_19270/2614598078.py\u001b[0m in \u001b[0;36m<module>\u001b[0;34m\u001b[0m\n\u001b[1;32m     42\u001b[0m \u001b[0;34m\u001b[0m\u001b[0m\n\u001b[1;32m     43\u001b[0m \u001b[0;34m\u001b[0m\u001b[0m\n\u001b[0;32m---> 44\u001b[0;31m \u001b[0mchoice\u001b[0m \u001b[0;34m=\u001b[0m \u001b[0mint\u001b[0m\u001b[0;34m(\u001b[0m\u001b[0minput\u001b[0m\u001b[0;34m(\u001b[0m\u001b[0;34m'Decrypt (1) or Encrypt (2) ?'\u001b[0m\u001b[0;34m)\u001b[0m\u001b[0;34m)\u001b[0m\u001b[0;34m\u001b[0m\u001b[0;34m\u001b[0m\u001b[0m\n\u001b[0m\u001b[1;32m     45\u001b[0m \u001b[0;34m\u001b[0m\u001b[0m\n\u001b[1;32m     46\u001b[0m \u001b[0;32mif\u001b[0m \u001b[0mchoice\u001b[0m \u001b[0;34m==\u001b[0m \u001b[0;36m1\u001b[0m \u001b[0;34m:\u001b[0m\u001b[0;34m\u001b[0m\u001b[0;34m\u001b[0m\u001b[0m\n",
      "\u001b[0;31mTypeError\u001b[0m: 'str' object is not callable"
     ]
    }
   ],
   "source": [
    "# Solving 1. Affine cipher\n",
    "\n",
    "from string import ascii_uppercase\n",
    "\n",
    "a_arr = [1,3,5,7,9,11,15,17,19,21,23,25]\n",
    "a_arr_inverse = [1, 9,21,15,3,19,7,23,11,5,17,25]\n",
    "\n",
    "def affine_encrypt(pt: str,a: int,b: int):\n",
    "\n",
    "    if a not in a_arr_inverse:\n",
    "         raise Exception('a not in [1,3,5,7,9,11,15,17,19,21,23,25]')\n",
    "\n",
    "    pt = pt.upper()\n",
    "    pt_arr = pt.split(' ')\n",
    "    encrypted_arr = []\n",
    "    for word in pt_arr:\n",
    "         temp_word_array = []\n",
    "         for letter in word:\n",
    "            letter_index = ascii_uppercase.index(letter)\n",
    "            enc_letter_index = ((a*letter_index) + b) % 26\n",
    "            temp_word_array.append(ascii_uppercase[enc_letter_index])\n",
    "         encrypted_arr.append(\"\".join(temp_word_array))\n",
    "\n",
    "    return \" \".join(encrypted_arr)\n",
    "    \n",
    "\n",
    "def affine_decrypt(y: str,a: int,b: int):\n",
    "    y = y.upper()\n",
    "    if a not in a_arr:\n",
    "         raise Exception('a not in [1,3,5,7,9,11,15,17,19,21,23,25]')\n",
    "    y_arr = y.split(' ')\n",
    "    decrypted_arr = []\n",
    "    for word in y_arr:\n",
    "         temp_word_array = []\n",
    "         for letter in word:\n",
    "            letter_index = ascii_uppercase.index(letter)\n",
    "            dec_letter_index = (a_arr_inverse[a_arr.index(a)] * (letter_index - b)) % 26\n",
    "            temp_word_array.append(ascii_uppercase[dec_letter_index])\n",
    "         decrypted_arr.append(\"\".join(temp_word_array))\n",
    "\n",
    "    return \" \".join(decrypted_arr)\n",
    "\n",
    "\n",
    "choice = int(input('Decrypt (1) or Encrypt (2) ?'))\n",
    "\n",
    "if choice == 1 :\n",
    "    print(affine_decrypt(input('Plain text?'), int(input('Value of a?')), int(input('Value of b?'))))\n",
    "elif choice == 2:\n",
    "        print(affine_encrypt(input('Cipher Text?'), int(input('Value of a?')), int(input('Value of b?'))))\n"
   ]
  }
 ],
 "metadata": {
  "kernelspec": {
   "display_name": "Python 3",
   "language": "python",
   "name": "python3"
  },
  "language_info": {
   "codemirror_mode": {
    "name": "ipython",
    "version": 3
   },
   "file_extension": ".py",
   "mimetype": "text/x-python",
   "name": "python",
   "nbconvert_exporter": "python",
   "pygments_lexer": "ipython3",
   "version": "3.10.12"
  },
  "orig_nbformat": 4
 },
 "nbformat": 4,
 "nbformat_minor": 2
}
